{
  "nbformat": 4,
  "nbformat_minor": 0,
  "metadata": {
    "colab": {
      "provenance": []
    },
    "kernelspec": {
      "name": "python3",
      "display_name": "Python 3"
    },
    "language_info": {
      "name": "python"
    }
  },
  "cells": [
    {
      "cell_type": "markdown",
      "source": [
        "#Countdown Timmer using python"
      ],
      "metadata": {
        "id": "L3waCr0QS-p6"
      }
    },
    {
      "cell_type": "markdown",
      "source": [
        "1). In the below program 'import time', the import time statement imports the time module, which provides various functions related to time. \n",
        "\n",
        "2). Within each iteration of the loop, the 'divmod()' function is used to calculate the number of minutes (mins) and remaining seconds (secs) from the current value of t. The divmod(t, 60) divides t by 60 and returns a tuple containing the quotient (minutes) and remainder (seconds). Similarlly for (hour, min =divmod(min,60) if t>3599 else 0,min)\n",
        "\n",
        "3). The timer variable is then formatted using the '{:02d}:{:02d}:{:02d}'.format(hour,min, sec) statement. This formats the min and sec values as a string with two digits each, zero-padded if necessary, and separated by a colon.\n",
        "\n",
        "4). After printing the timer, the 'time.sleep(1)' function is called to pause the execution for 1 second. This introduces a one-second delay between each iteration of the loop.\n",
        "\n",
        "5)The loop continues until 't' becomes zero, at which point the loop exits."
      ],
      "metadata": {
        "id": "kueEdQkvTmqb"
      }
    },
    {
      "cell_type": "code",
      "source": [
        "import time\n",
        "def count(t):\n",
        "  while t:\n",
        "    min,sec=divmod(t,60)\n",
        "    hour,min=divmod(min,60) if t>3599 else 0,min\n",
        "    timer=\"{:02d}:{:02d}:{:02d}\".format(hour,min,sec)\n",
        "    print(timer )\n",
        "    time.sleep(1)\n",
        "    t-=1\n",
        "  print(\"timer up!\")\n",
        "\n",
        "t=input(\"enter the time in sec:\")\n",
        "count(int(t))"
      ],
      "metadata": {
        "colab": {
          "base_uri": "https://localhost:8080/"
        },
        "id": "HofIfr1uFOCX",
        "outputId": "7a16b512-1a4d-4bc9-fb82-f76b154834a8"
      },
      "execution_count": null,
      "outputs": [
        {
          "output_type": "stream",
          "name": "stdout",
          "text": [
            "enter the time in sec:23\n",
            "00:00:23\n",
            "00:00:22\n",
            "00:00:21\n",
            "00:00:20\n",
            "00:00:19\n",
            "00:00:18\n",
            "00:00:17\n",
            "00:00:16\n",
            "00:00:15\n",
            "00:00:14\n",
            "00:00:13\n",
            "00:00:12\n",
            "00:00:11\n",
            "00:00:10\n",
            "00:00:09\n",
            "00:00:08\n",
            "00:00:07\n",
            "00:00:06\n",
            "00:00:05\n",
            "00:00:04\n",
            "00:00:03\n",
            "00:00:02\n",
            "00:00:01\n",
            "timer completed!\n"
          ]
        }
      ]
    }
  ]
}